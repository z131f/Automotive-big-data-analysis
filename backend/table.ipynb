{
 "cells": [
  {
   "metadata": {},
   "cell_type": "markdown",
   "source": [
    "CREATE TABLE car_data (\n",
    "    car_brand STRING COMMENT '汽车品牌',\n",
    "    city STRING COMMENT '城市',\n",
    "    car_model STRING COMMENT '车型',\n",
    "    manufacturer_suggested_price DECIMAL(10, 2) COMMENT '厂商指导价',\n",
    "    engine_horsepower INT COMMENT '引擎马力',\n",
    "    num_doors INT COMMENT '门数',\n",
    "    min_reference_price DECIMAL(10, 2) COMMENT '最低参考价',\n",
    "    car_type STRING COMMENT '所属类型',\n",
    "    manufacture_year INT COMMENT '年份',\n",
    "    fuel_capacity DECIMAL(5, 2) COMMENT '油量', -- 假设以升为单位，保留两位小数\n",
    "    popularity INT COMMENT '关注度',\n",
    "    discount_percentage DECIMAL(5, 2) COMMENT '优惠幅度', -- 假设以百分比表示，保留两位小数\n",
    "    historical_price MAP<STRING, INT> COMMENT '历史价格', -- 存储一个价格数组，方便记录不同时期的价格\n",
    "    city_license_plates MAP<STRING, INT> COMMENT '各城市上牌量', -- 存储城市到上牌量的映射\n",
    ")\n",
    "COMMENT '汽车详细数据表'\n",
    "ROW FORMAT DELIMITED\n",
    "FIELDS TERMINATED BY '\\t' -- 字段之间使用制表符分隔\n",
    "COLLECTION ITEMS TERMINATED BY ',' -- 数组元素之间使用逗号分隔\n",
    "MAP KEYS TERMINATED BY ':' -- Map的键值对之间使用冒号分隔\n",
    "STORED AS TEXTFILE;\n",
    "\n",
    "\n",
    "\n",
    "全部存到一个表里"
   ],
   "id": "22441570b051dfd2"
  }
 ],
 "metadata": {
  "kernelspec": {
   "display_name": "Python 3",
   "language": "python",
   "name": "python3"
  },
  "language_info": {
   "codemirror_mode": {
    "name": "ipython",
    "version": 2
   },
   "file_extension": ".py",
   "mimetype": "text/x-python",
   "name": "python",
   "nbconvert_exporter": "python",
   "pygments_lexer": "ipython2",
   "version": "2.7.6"
  }
 },
 "nbformat": 4,
 "nbformat_minor": 5
}
